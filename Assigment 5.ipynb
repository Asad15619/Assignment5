{
 "cells": [
  {
   "cell_type": "code",
   "execution_count": null,
   "metadata": {},
   "outputs": [],
   "source": [
    "# Assignmen 5 q1\n",
    "\n",
    "def factorial(n):\n",
    "\n",
    "    factorial = 1\n",
    "    \n",
    "    if n == 0:\n",
    "        return 1\n",
    "    else:\n",
    "        for i in range(1,n+1):\n",
    "            factorial=factorial*i\n",
    "        return factorial\n",
    "\n",
    "print(factorial())\n",
    "\n",
    "\n"
   ]
  },
  {
   "cell_type": "code",
   "execution_count": null,
   "metadata": {},
   "outputs": [],
   "source": [
    "#Assignment 5 q2\n",
    "\n",
    "def upper_lower(s):\n",
    "    upper_case = 0\n",
    "    lower_case = 0\n",
    "    \n",
    "    \n",
    "    for letter in s :\n",
    "        if letter.isupper():\n",
    "            upper_case+=1\n",
    "        elif letter.islower():\n",
    "            lower_case+=1\n",
    "    print(upper_case , lower_case)"
   ]
  },
  {
   "cell_type": "code",
   "execution_count": null,
   "metadata": {},
   "outputs": [],
   "source": [
    "#Assignment 5 q3\n",
    "\n",
    "def eve_num(l):\n",
    "    enum = []\n",
    "    for n in l:\n",
    "        if n % 2 == 0:\n",
    "            enum.append(n)\n",
    "    return enum\n",
    "print(even_num([1, 2, 3, 4, 5, 6, 7, 8, 9]))\n"
   ]
  },
  {
   "cell_type": "code",
   "execution_count": null,
   "metadata": {},
   "outputs": [],
   "source": [
    "#Assignment 5 q4\n",
    "\n",
    "def Palindrome(string):\n",
    "\tleft = 0\n",
    "\tright = len(string) - 1\n",
    " \n",
    "\twhile right >= left:\n",
    "\t\tif not string[left] == string[right]:\n",
    "\t\t\treturn False\n",
    "\t\tleft += 1\n",
    "\t\tright -= 1\n",
    "\treturn True\n",
    "print(Palindrome(MADAM))"
   ]
  },
  {
   "cell_type": "code",
   "execution_count": null,
   "metadata": {},
   "outputs": [],
   "source": [
    "#Assignment 5 q5\n",
    "\n",
    " def prime(n):\n",
    "    if (n==1):\n",
    "        return False\n",
    "    elif (n==2):\n",
    "        return True;\n",
    "    else:\n",
    "        for a in range(2,n):\n",
    "            if(n % a==0):\n",
    "                return False\n",
    "        return True             \n",
    "print(prime(10))"
   ]
  },
  {
   "cell_type": "code",
   "execution_count": null,
   "metadata": {},
   "outputs": [],
   "source": [
    "#Assigment 5 q6\n",
    "\n",
    "def purchase_list(first, second, third, *Remaining):\n",
    "    print(\"First: %s\" %(first))\n",
    "    print(\"Second: %s\" %(second))\n",
    "    print(\"Third: %s\" %(third))\n",
    "    print(\"And all the rest... %s\" %(list(Remaining)))\n",
    "\n",
    "purchase_list(\"book\",\"pen\",\"purse\",\"rubber\")"
   ]
  }
 ],
 "metadata": {
  "kernelspec": {
   "display_name": "Python 3",
   "language": "python",
   "name": "python3"
  },
  "language_info": {
   "codemirror_mode": {
    "name": "ipython",
    "version": 3
   },
   "file_extension": ".py",
   "mimetype": "text/x-python",
   "name": "python",
   "nbconvert_exporter": "python",
   "pygments_lexer": "ipython3",
   "version": "3.7.3"
  }
 },
 "nbformat": 4,
 "nbformat_minor": 2
}
